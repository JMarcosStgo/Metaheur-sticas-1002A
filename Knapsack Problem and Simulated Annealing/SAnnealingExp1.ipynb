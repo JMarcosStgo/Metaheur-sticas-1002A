{
 "cells": [
  {
   "cell_type": "code",
   "execution_count": 8,
   "metadata": {},
   "outputs": [],
   "source": [
    "import numpy as np\n",
    "import math\n",
    "import sys\n",
    "import time\n",
    "import random\n",
    "import matplotlib.pyplot as plt\n",
    "\n",
    "class SAnnealing(object):\n",
    "    \"\"\"\n",
    "    Simulated Annealing algorithm implementation for the Knapsack Problem.\n",
    "\n",
    "    Args:\n",
    "        step (int): Step size for temperature updates.\n",
    "        final_temperature (float): Final temperature threshold for termination.\n",
    "        temperature (float): Initial temperature.\n",
    "        alpha (float): Cooling factor for temperature updates.\n",
    "        equilibrium (int): Number of iterations at each temperature level.\n",
    "        time (float): Time delay for visualization purposes.\n",
    "        pesos (list): List of weights of items.\n",
    "        valores (list): List of values of items.\n",
    "        capacity (int): Capacity constraint of the knapsack.\n",
    "        total (float): Total execution time of the algorithm.\n",
    "        valor_optimo (float): Optimal value achieved by the algorithm.\n",
    "\n",
    "    \"\"\"\n",
    "\n",
    "    def __init__(self, step=1, final_temperature=0.1, temperature=100, alpha=0.95, equilibrium=10, time=0,\n",
    "                 pesos=[], valores=[], capacity=1, total=0, valor_optimo=0):\n",
    "        self.step = step\n",
    "        self.temperature = temperature\n",
    "        self.final_temperature = final_temperature\n",
    "        self.alpha = alpha\n",
    "        self.equilibrium = equilibrium\n",
    "        self.time = time\n",
    "        self.pesos = pesos\n",
    "        self.valores = valores\n",
    "        self.capacity = capacity\n",
    "        self.total = total\n",
    "        self.valor_optimo = valor_optimo\n",
    "\n",
    "    def cost_function(self, f, x):\n",
    "        \"\"\"\n",
    "        Evaluate the cost function for a given solution.\n",
    "\n",
    "        Args:\n",
    "            f (function): Objective function.\n",
    "            x (list): Solution to evaluate.\n",
    "\n",
    "        Returns:\n",
    "            float: Cost value of the solution.\n",
    "        \"\"\"\n",
    "        return f(self.valores, x)\n",
    "\n",
    "    def getTotalPeso(self, pesos: list, actual_solution: list) -> float:\n",
    "        \"\"\"\n",
    "        Calculate the total weight of a solution.\n",
    "\n",
    "        Args:\n",
    "            pesos (list): List of weights of items.\n",
    "            actual_solution (list): Current solution.\n",
    "\n",
    "        Returns:\n",
    "            float: Total weight of the solution.\n",
    "        \"\"\"\n",
    "        totalPeso = 0\n",
    "        i = 0\n",
    "        for element in actual_solution:\n",
    "            if (element):\n",
    "                totalPeso += pesos[i]\n",
    "            i += 1\n",
    "        return totalPeso\n",
    "\n",
    "    def create_first_solution(self) -> list:\n",
    "        \"\"\"\n",
    "        Generate the initial solution randomly.\n",
    "\n",
    "        Returns:\n",
    "            list: Initial solution.\n",
    "        \"\"\"\n",
    "        while (1):\n",
    "            firstSolution = []\n",
    "            for i in np.arange(len(self.pesos)):\n",
    "                firstSolution.append(random.randint(0, 1))\n",
    "            if (self.getTotalPeso(self.pesos, firstSolution) <= self.capacity):\n",
    "                return firstSolution\n",
    "\n",
    "    def create_neighbor_solution(self, actual_solution: list) -> list:\n",
    "        \"\"\"\n",
    "        Generate a neighbor solution by flipping a random bit.\n",
    "\n",
    "        Args:\n",
    "            actual_solution (list): Current solution.\n",
    "\n",
    "        Returns:\n",
    "            list: Neighbor solution.\n",
    "        \"\"\"\n",
    "        while (1):\n",
    "            neighbor = actual_solution.copy()\n",
    "            randomIndex = random.randint(0, (len(actual_solution) - 1))\n",
    "            neighbor[randomIndex] = 0 if neighbor[randomIndex] == 1 else 1\n",
    "            if (self.getTotalPeso(self.pesos, neighbor) <= self.capacity):\n",
    "                return neighbor\n",
    "\n",
    "    def aceptance_probability(self, deltaE, temperature):\n",
    "        \"\"\"\n",
    "        Calculate the acceptance probability based on energy difference and temperature.\n",
    "\n",
    "        Args:\n",
    "            deltaE (float): Energy difference between solutions.\n",
    "            temperature (float): Current temperature.\n",
    "\n",
    "        Returns:\n",
    "            float: Acceptance probability.\n",
    "        \"\"\"\n",
    "        try:\n",
    "            r = math.exp(-deltaE / temperature)\n",
    "        except OverflowError:\n",
    "            r = float(\"inf\")\n",
    "        return r\n",
    "\n",
    "    def update_temperature(self, temperature):\n",
    "        \"\"\"\n",
    "        Update the temperature using the cooling schedule.\n",
    "\n",
    "        Args:\n",
    "            temperature (float): Current temperature.\n",
    "\n",
    "        Returns:\n",
    "            float: Updated temperature.\n",
    "        \"\"\"\n",
    "        return self.alpha * temperature\n",
    "\n",
    "    def fit(self, objetive):\n",
    "        \"\"\"\n",
    "        Run the Simulated Annealing algorithm.\n",
    "\n",
    "        Args:\n",
    "            objetive (function): Objective function to optimize.\n",
    "\n",
    "        \"\"\"\n",
    "        self.cost_ = []\n",
    "        actual_solution = self.create_first_solution()\n",
    "        best_solution = actual_solution.copy()\n",
    "        epoch = 0\n",
    "        number_tested_solution = 0\n",
    "        aceptanced = 100\n",
    "        inicio = time.time()\n",
    "        while (self.temperature > self.final_temperature):\n",
    "\n",
    "            number_worst_solution_acepted = 0\n",
    "            i = 0\n",
    "            while (i < self.equilibrium):\n",
    "                random_solution = self.create_neighbor_solution(actual_solution)\n",
    "                number_tested_solution += 1\n",
    "                delta_E = self.cost_function(objetive, random_solution) - self.cost_function(objetive, actual_solution)\n",
    "                if delta_E > 0:\n",
    "                    actual_solution = random_solution.copy()\n",
    "                else:\n",
    "                    deg_deltaE = self.aceptance_probability(-delta_E, self.temperature)\n",
    "                    if (np.random.uniform(0, 1) < deg_deltaE):\n",
    "                        actual_solution = random_solution.copy()\n",
    "                        number_worst_solution_acepted += 1\n",
    "                x = self.cost_function(objetive, actual_solution)\n",
    "                self.cost_.append((x, self.temperature))\n",
    "                epoch_strlen = len(str(epoch))\n",
    "                fin = time.time()\n",
    "                self.total = fin - inicio\n",
    "                sys.stderr.write('\\r%0*d Epoch | Equilibrium %d | Temperature %.2f '\n",
    "                                 '| Cost function: %.2f | Aceptance : %.2f | Time: %.2f'\n",
    "                                 %\n",
    "                                 (epoch_strlen, epoch + 1, i + 1, self.temperature,\n",
    "                                  x, aceptanced, self.total))\n",
    "                time.sleep(self.time)\n",
    "                sys.stderr.flush()\n",
    "                i += 1\n",
    "                epoch += 1\n",
    "            self.valor_optimo = x\n",
    "            aceptanced = number_worst_solution_acepted * 100 / number_tested_solution\n",
    "            self.temperature = self.update_temperature(self.temperature)\n",
    "        print(actual_solution)\n"
   ]
  },
  {
   "cell_type": "code",
   "execution_count": 9,
   "metadata": {},
   "outputs": [],
   "source": [
    "def formatear_tiempo(tiempo):\n",
    "    \"\"\"Función para formatear el tiempo en un formato legible.\"\"\"\n",
    "    tiempo_formateado = str(datetime.timedelta(seconds=tiempo))\n",
    "    return tiempo_formateado"
   ]
  },
  {
   "cell_type": "code",
   "execution_count": 10,
   "metadata": {},
   "outputs": [],
   "source": [
    "exp_time = []\n",
    "exp_value = []"
   ]
  },
  {
   "cell_type": "code",
   "execution_count": 11,
   "metadata": {},
   "outputs": [],
   "source": [
    "# read file\n",
    "pesos = []\n",
    "with open('./instancias/p20.txt', 'r') as file:\n",
    "    for line in file:\n",
    "        row = line.strip().split(',')\n",
    "        pesos.append(row)\n",
    "pesos = np.array(pesos).astype(\"float\")\n",
    "\n",
    "valores = []\n",
    "with open('./instancias/v20.txt', 'r') as file:\n",
    "    for line in file:\n",
    "        row = line.strip().split(',')\n",
    "        valores.append(row)\n",
    "valores = np.array(valores).astype(\"float\")\n",
    "\n",
    "capacidad = 50\n",
    "\n",
    "def getTotalValor(valores: list, actual_solution: list) -> float:\n",
    "    totalValor = 0\n",
    "    i = 0\n",
    "    for element in actual_solution:\n",
    "        if(element):\n",
    "            totalValor += float(valores[i])\n",
    "        i += 1\n",
    "    return totalValor"
   ]
  },
  {
   "cell_type": "code",
   "execution_count": 12,
   "metadata": {
    "scrolled": true
   },
   "outputs": [
    {
     "name": "stderr",
     "output_type": "stream",
     "text": [
      "/tmp/ipykernel_6575/1309072182.py:23: DeprecationWarning: Conversion of an array with ndim > 0 to a scalar is deprecated, and will error in future. Ensure you extract a single element from your array before performing this operation. (Deprecated NumPy 1.25.)\n",
      "  totalValor += float(valores[i])\n",
      "6210 Epoch | Equilibrium 30 | Temperature 0.01 | Cost function: 142.00 | Aceptance : 0.00 | Time: 5.0541"
     ]
    },
    {
     "name": "stdout",
     "output_type": "stream",
     "text": [
      "[0, 0, 1, 0, 0, 0, 1, 0, 0, 1, 0, 1, 0, 1, 0, 0, 0, 0, 1, 1]\n"
     ]
    },
    {
     "data": {
      "image/png": "[encoded data removed]",
      "text/plain": [
       "<Figure size 432x288 with 1 Axes>"
      ]
     },
     "metadata": {
      "needs_background": "light"
     },
     "output_type": "display_data"
    },
    {
     "data": {
      "image/png": "[encoded data removed]",
      "text/plain": [
       "<Figure size 432x288 with 1 Axes>"
      ]
     },
     "metadata": {
      "needs_background": "light"
     },
     "output_type": "display_data"
    }
   ],
   "source": [
    "# Experimento1 - prueba 1\n",
    "sa = SAnnealing(step = 1, final_temperature=0.01, temperature = 400, alpha=0.95, equilibrium=30, time = 0, pesos=pesos, valores=valores, capacity=capacidad)\n",
    "sa.fit(getTotalValor)\n",
    "plt.plot(range(len(sa.cost_)), [x[0] for x in sa.cost_ ])\n",
    "plt.show()\n",
    "plt.plot(range(len(sa.cost_)), [x[1] for x in sa.cost_ ])\n",
    "plt.show()\n",
    "exp_time.append(sa.total)\n",
    "exp_value.append(sa.valor_optimo)"
   ]
  },
  {
   "cell_type": "code",
   "execution_count": 13,
   "metadata": {},
   "outputs": [
    {
     "name": "stderr",
     "output_type": "stream",
     "text": [
      "/tmp/ipykernel_6575/1309072182.py:23: DeprecationWarning: Conversion of an array with ndim > 0 to a scalar is deprecated, and will error in future. Ensure you extract a single element from your array before performing this operation. (Deprecated NumPy 1.25.)\n",
      "  totalValor += float(valores[i])\n",
      "6210 Epoch | Equilibrium 30 | Temperature 0.01 | Cost function: 143.00 | Aceptance : 0.00 | Time: 5.0460"
     ]
    },
    {
     "name": "stdout",
     "output_type": "stream",
     "text": [
      "[0, 0, 1, 0, 0, 0, 1, 0, 1, 1, 0, 0, 0, 1, 0, 0, 0, 0, 1, 1]\n"
     ]
    },
    {
     "data": {
      "image/png": "[encoded data removed]",
      "text/plain": [
       "<Figure size 432x288 with 1 Axes>"
      ]
     },
     "metadata": {
      "needs_background": "light"
     },
     "output_type": "display_data"
    },
    {
     "data": {
      "image/png": "[encoded data removed]",
      "text/plain": [
       "<Figure size 432x288 with 1 Axes>"
      ]
     },
     "metadata": {
      "needs_background": "light"
     },
     "output_type": "display_data"
    }
   ],
   "source": [
    "# Experimento1 - prueba 2\n",
    "sa = SAnnealing(step = 1, final_temperature=0.01, temperature = 400, alpha=0.95, equilibrium=30, time = 0, pesos=pesos, valores=valores, capacity=capacidad)\n",
    "sa.fit(getTotalValor)\n",
    "plt.plot(range(len(sa.cost_)), [x[0] for x in sa.cost_ ])\n",
    "plt.show()\n",
    "plt.plot(range(len(sa.cost_)), [x[1] for x in sa.cost_ ])\n",
    "plt.show()\n",
    "exp_time.append(sa.total)\n",
    "exp_value.append(sa.valor_optimo)"
   ]
  },
  {
   "cell_type": "code",
   "execution_count": 14,
   "metadata": {},
   "outputs": [
    {
     "name": "stderr",
     "output_type": "stream",
     "text": [
      "/tmp/ipykernel_6575/1309072182.py:23: DeprecationWarning: Conversion of an array with ndim > 0 to a scalar is deprecated, and will error in future. Ensure you extract a single element from your array before performing this operation. (Deprecated NumPy 1.25.)\n",
      "  totalValor += float(valores[i])\n",
      "6210 Epoch | Equilibrium 30 | Temperature 0.01 | Cost function: 133.00 | Aceptance : 0.00 | Time: 5.0220"
     ]
    },
    {
     "name": "stdout",
     "output_type": "stream",
     "text": [
      "[0, 0, 0, 1, 0, 0, 1, 0, 0, 1, 0, 1, 0, 1, 0, 0, 0, 0, 1, 0]\n"
     ]
    },
    {
     "data": {
      "image/png": "[encoded data removed]",
      "text/plain": [
       "<Figure size 432x288 with 1 Axes>"
      ]
     },
     "metadata": {
      "needs_background": "light"
     },
     "output_type": "display_data"
    },
    {
     "data": {
      "image/png": "[encoded data removed]",
      "text/plain": [
       "<Figure size 432x288 with 1 Axes>"
      ]
     },
     "metadata": {
      "needs_background": "light"
     },
     "output_type": "display_data"
    }
   ],
   "source": [
    "# Experimento1 - prueba 3\n",
    "sa = SAnnealing(step = 1, final_temperature=0.01, temperature = 400, alpha=0.95, equilibrium=30, time = 0, pesos=pesos, valores=valores, capacity=capacidad)\n",
    "sa.fit(getTotalValor)\n",
    "plt.plot(range(len(sa.cost_)), [x[0] for x in sa.cost_ ])\n",
    "plt.show()\n",
    "plt.plot(range(len(sa.cost_)), [x[1] for x in sa.cost_ ])\n",
    "plt.show()\n",
    "exp_time.append(sa.total)\n",
    "exp_value.append(sa.valor_optimo)"
   ]
  },
  {
   "cell_type": "code",
   "execution_count": 15,
   "metadata": {},
   "outputs": [
    {
     "name": "stderr",
     "output_type": "stream",
     "text": [
      "/tmp/ipykernel_6575/1309072182.py:23: DeprecationWarning: Conversion of an array with ndim > 0 to a scalar is deprecated, and will error in future. Ensure you extract a single element from your array before performing this operation. (Deprecated NumPy 1.25.)\n",
      "  totalValor += float(valores[i])\n",
      "2916 Epoch | Equilibrium 6 | Temperature 2.76 | Cost function: 134.00 | Aceptance : 0.00 | Time: 2.19839"
     ]
    }
   ],
   "source": [
    "# Experimento1 - prueba 4\n",
    "sa = SAnnealing(step = 1, final_temperature=0.01, temperature = 400, alpha=0.95, equilibrium=30, time = 0, pesos=pesos, valores=valores, capacity=capacidad)\n",
    "sa.fit(getTotalValor)\n",
    "plt.plot(range(len(sa.cost_)), [x[0] for x in sa.cost_ ])\n",
    "plt.show()\n",
    "plt.plot(range(len(sa.cost_)), [x[1] for x in sa.cost_ ])\n",
    "plt.show()\n",
    "exp_time.append(sa.total)\n",
    "exp_value.append(sa.valor_optimo)"
   ]
  },
  {
   "cell_type": "code",
   "execution_count": 16,
   "metadata": {},
   "outputs": [],
   "source": [
    "# Experimento1 - prueba 5\n",
    "sa = SAnnealing(step = 1, final_temperature=0.01, temperature = 400, alpha=0.95, equilibrium=30, time = 0, pesos=pesos, valores=valores, capacity=capacidad)\n",
    "sa.fit(getTotalValor)\n",
    "plt.plot(range(len(sa.cost_)), [x[0] for x in sa.cost_ ])\n",
    "plt.show()\n",
    "plt.plot(range(len(sa.cost_)), [x[1] for x in sa.cost_ ])\n",
    "plt.show()\n",
    "exp_time.append(sa.total)\n",
    "exp_value.append(sa.valor_optimo)"
   ]
  },
  {
   "cell_type": "code",
   "execution_count": null,
   "metadata": {},
   "outputs": [],
   "source": [
    "# Experimento1 - prueba 6\n",
    "sa = SAnnealing(step = 1, final_temperature=0.01, temperature = 400, alpha=0.95, equilibrium=30, time = 0, pesos=pesos, valores=valores, capacity=capacidad)\n",
    "sa.fit(getTotalValor)\n",
    "plt.plot(range(len(sa.cost_)), [x[0] for x in sa.cost_ ])\n",
    "plt.show()\n",
    "plt.plot(range(len(sa.cost_)), [x[1] for x in sa.cost_ ])\n",
    "plt.show()\n",
    "exp_time.append(sa.total)\n",
    "exp_value.append(sa.valor_optimo)"
   ]
  },
  {
   "cell_type": "code",
   "execution_count": null,
   "metadata": {},
   "outputs": [],
   "source": [
    "# Experimento1 - prueba 7\n",
    "sa = SAnnealing(step = 1, final_temperature=0.01, temperature = 400, alpha=0.95, equilibrium=30, time = 0, pesos=pesos, valores=valores, capacity=capacidad)\n",
    "sa.fit(getTotalValor)\n",
    "plt.plot(range(len(sa.cost_)), [x[0] for x in sa.cost_ ])\n",
    "plt.show()\n",
    "plt.plot(range(len(sa.cost_)), [x[1] for x in sa.cost_ ])\n",
    "plt.show()\n",
    "exp_time.append(sa.total)\n",
    "exp_value.append(sa.valor_optimo)"
   ]
  },
  {
   "cell_type": "code",
   "execution_count": null,
   "metadata": {},
   "outputs": [],
   "source": [
    "# Experimento1 - prueba 8\n",
    "sa = SAnnealing(step = 1, final_temperature=0.01, temperature = 400, alpha=0.95, equilibrium=30, time = 0, pesos=pesos, valores=valores, capacity=capacidad)\n",
    "sa.fit(getTotalValor)\n",
    "plt.plot(range(len(sa.cost_)), [x[0] for x in sa.cost_ ])\n",
    "plt.show()\n",
    "plt.plot(range(len(sa.cost_)), [x[1] for x in sa.cost_ ])\n",
    "plt.show()\n",
    "exp_time.append(sa.total)\n",
    "exp_value.append(sa.valor_optimo)"
   ]
  },
  {
   "cell_type": "code",
   "execution_count": null,
   "metadata": {},
   "outputs": [],
   "source": [
    "# Experimento1 - prueba 9\n",
    "sa = SAnnealing(step = 1, final_temperature=0.01, temperature = 400, alpha=0.95, equilibrium=30, time = 0, pesos=pesos, valores=valores, capacity=capacidad)\n",
    "sa.fit(getTotalValor)\n",
    "plt.plot(range(len(sa.cost_)), [x[0] for x in sa.cost_ ])\n",
    "plt.show()\n",
    "plt.plot(range(len(sa.cost_)), [x[1] for x in sa.cost_ ])\n",
    "plt.show()\n",
    "exp_time.append(sa.total)\n",
    "exp_value.append(sa.valor_optimo)"
   ]
  },
  {
   "cell_type": "code",
   "execution_count": null,
   "metadata": {},
   "outputs": [],
   "source": [
    "# Experimento1 - prueba 10\n",
    "sa = SAnnealing(step = 1, final_temperature=0.01, temperature = 400, alpha=0.95, equilibrium=30, time = 0, pesos=pesos, valores=valores, capacity=capacidad)\n",
    "sa.fit(getTotalValor)\n",
    "plt.plot(range(len(sa.cost_)), [x[0] for x in sa.cost_ ])\n",
    "plt.show()\n",
    "plt.plot(range(len(sa.cost_)), [x[1] for x in sa.cost_ ])\n",
    "plt.show()\n",
    "exp_time.append(sa.total)\n",
    "exp_value.append(sa.valor_optimo)"
   ]
  },
  {
   "cell_type": "code",
   "execution_count": null,
   "metadata": {},
   "outputs": [],
   "source": [
    "print(\"Minimo del tiempo: \", min(exp_time))\n",
    "print(\"Maximo del tiempo: \", max(exp_time))\n",
    "print(\"Promedio del tiempo: \", sum(exp_time)/len(exp_time))\n",
    "\n",
    "print(\"Minimo del valor optimo: \", min(exp_value))\n",
    "print(\"Maximo del valor optimo: \", max(exp_value))\n",
    "print(\"Promedio del valor optimo: \", sum(exp_value)/len(exp_value))"
   ]
  }
 ],
 "metadata": {
  "kernelspec": {
   "display_name": "Python 3 (ipykernel)",
   "language": "python",
   "name": "python3"
  },
  "language_info": {
   "codemirror_mode": {
    "name": "ipython",
    "version": 3
   },
   "file_extension": ".py",
   "mimetype": "text/x-python",
   "name": "python",
   "nbconvert_exporter": "python",
   "pygments_lexer": "ipython3",
   "version": "3.10.12"
  }
 },
 "nbformat": 4,
 "nbformat_minor": 4
}

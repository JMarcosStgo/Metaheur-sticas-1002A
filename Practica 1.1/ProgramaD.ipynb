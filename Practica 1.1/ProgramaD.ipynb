{
  "cells": [
    {
      "cell_type": "code",
      "execution_count": 5,
      "metadata": {
        "id": "14c76674"
      },
      "outputs": [],
      "source": [
        "import datetime\n",
        "from numpy import sqrt\n",
        "import random\n",
        "import time\n",
        "from datetime import datetime, timedelta\n"
      ],
      "id": "14c76674"
    },
    {
      "cell_type": "code",
      "execution_count": 16,
      "metadata": {
        "id": "f37a58e1"
      },
      "outputs": [],
      "source": [
        "def obtener_semilla(myname):\n",
        "    \"\"\"Obtiene una semilla inicial igual a las dos primeras letras de tu primer nombre.\"\"\"\n",
        "    first_letter = ord(myname[0])\n",
        "    second_letter = ord(myname[1])\n",
        "    return first_letter + second_letter\n",
        "\n",
        "def tiempo_a_segundos(tiempo_str):\n",
        "    \"\"\"Convierte una cadena de tiempo en formato HH:MM:SS.microsegundos a segundos.\"\"\"\n",
        "    tiempo = datetime.strptime(tiempo_str, \"%H:%M:%S.%f\")\n",
        "    return tiempo.hour * 3600 + tiempo.minute * 60 + tiempo.second + tiempo.microsecond / 1000000\n",
        "\n",
        "def raiz_cuadrada(objetive, myname, timeB=\"0:00:00.000018\"):\n",
        "    \"\"\"Método que calcula la raiz cuadrada exacta de un numero N mediante la búsqueda aleatoria.\"\"\"\n",
        "    seed = obtener_semilla(myname)\n",
        "    random.seed(seed)\n",
        "    solution = random.randint(0, objetive)\n",
        "    iteraciones = 0\n",
        "\n",
        "    start_time = time.time()\n",
        "\n",
        "    # Convertir el tiempo límite de cadena a segundos\n",
        "    timeB_seconds = tiempo_a_segundos(timeB)\n",
        "    timeStop = tiempo_a_segundos(\"0:00:00.000000\")\n",
        "\n",
        "    while solution**2 != objetive and timeStop <= timeB_seconds:\n",
        "        solution = random.uniform(0, objetive)\n",
        "        iteraciones += 1\n",
        "\n",
        "        end_time = time.time()\n",
        "        timeStop = end_time - start_time\n",
        "\n",
        "    if solution ** 2 == objetive:\n",
        "        print(f'La raíz cuadrada de {objetive} es {solution}')\n",
        "    else:\n",
        "        print(\"No se pudo hallar la raiz en el tiempo definido\")\n",
        "\n",
        "    print(f'Iteraciones: {iteraciones}')\n",
        "    print(f'Tiempo de ejecución: {end_time - start_time} segundos')\n",
        "    print(\"Error al buscar la solucion:\", ((sqrt(objetive) - solution)))\n",
        "    tiempo_delta = timedelta(seconds=end_time - start_time)\n",
        "    tiempo_formateado = str(tiempo_delta)\n",
        "    print(tiempo_formateado)"
      ],
      "id": "f37a58e1"
    },
    {
      "cell_type": "code",
      "execution_count": 11,
      "metadata": {
        "colab": {
          "base_uri": "https://localhost:8080/"
        },
        "id": "96523d0f",
        "outputId": "7d73b866-5d89-4d58-c772-b2db34cc5d1c"
      },
      "outputs": [
        {
          "output_type": "stream",
          "name": "stdout",
          "text": [
            "No se pudo hallar la raiz en el tiempo definido\n",
            "Iteraciones: 75749848\n",
            "Tiempo de ejecución: 52.54227018356323 segundos\n",
            "Error al buscar la solucion: -5.558275488363021\n",
            "0:00:52.542270\n"
          ]
        }
      ],
      "source": [
        "# Llamada a la función con el tiempo límite especificado\n",
        "objetive = 9\n",
        "raiz_cuadrada(objetive, \"Marcos\", \"0:00:52.542270\")"
      ],
      "id": "96523d0f"
    },
    {
      "cell_type": "code",
      "execution_count": 12,
      "metadata": {
        "id": "76ae25e8",
        "outputId": "013847f9-cb22-4325-87c8-c49126d1e75b",
        "colab": {
          "base_uri": "https://localhost:8080/"
        }
      },
      "outputs": [
        {
          "output_type": "stream",
          "name": "stdout",
          "text": [
            "No se pudo hallar la raiz en el tiempo definido\n",
            "Iteraciones: 193579351\n",
            "Tiempo de ejecución: 139.5379765033722 segundos\n",
            "Error al buscar la solucion: -4.036942173069963\n",
            "0:02:19.537977\n"
          ]
        }
      ],
      "source": [
        "# Llamada a la función con el tiempo límite especificado\n",
        "objetive = 19\n",
        "raiz_cuadrada(objetive, \"Marcos\",\"0:02:19.537976\")"
      ],
      "id": "76ae25e8"
    },
    {
      "cell_type": "code",
      "execution_count": 13,
      "metadata": {
        "colab": {
          "base_uri": "https://localhost:8080/"
        },
        "id": "c0cd20d0",
        "outputId": "88fa899b-4dba-43f3-bbb5-a316f4b17bfb"
      },
      "outputs": [
        {
          "output_type": "stream",
          "name": "stdout",
          "text": [
            "No se pudo hallar la raiz en el tiempo definido\n",
            "Iteraciones: 1049094333\n",
            "Tiempo de ejecución: 743.1036975383759 segundos\n",
            "Error al buscar la solucion: -27.439503002003622\n",
            "0:12:23.103698\n"
          ]
        }
      ],
      "source": [
        "# Llamada a la función con el tiempo límite especificado\n",
        "objetive = 530\n",
        "raiz_cuadrada(objetive, \"Marcos\", \"0:12:23.103697\")"
      ],
      "id": "c0cd20d0"
    },
    {
      "cell_type": "code",
      "execution_count": 14,
      "metadata": {
        "id": "897de586",
        "colab": {
          "base_uri": "https://localhost:8080/"
        },
        "outputId": "48bb539b-754f-4c66-9bd8-6aae4ecf285e"
      },
      "outputs": [
        {
          "output_type": "stream",
          "name": "stdout",
          "text": [
            "No se pudo hallar la raiz en el tiempo definido\n",
            "Iteraciones: 1591000439\n",
            "Tiempo de ejecución: 1133.1457161903381 segundos\n",
            "Error al buscar la solucion: -720.2020353091436\n",
            "0:18:53.145716\n"
          ]
        }
      ],
      "source": [
        "objetive = 1225\n",
        "raiz_cuadrada(objetive,\"Marcos\",\"0:18:53.145716\")"
      ],
      "id": "897de586"
    },
    {
      "cell_type": "code",
      "execution_count": 17,
      "metadata": {
        "id": "694deda9",
        "colab": {
          "base_uri": "https://localhost:8080/"
        },
        "outputId": "21c9e7cc-d2c6-4f1e-be48-f560d0a97472"
      },
      "outputs": [
        {
          "output_type": "stream",
          "name": "stdout",
          "text": [
            "No se pudo hallar la raiz en el tiempo definido\n",
            "Iteraciones: 11264999444\n",
            "Tiempo de ejecución: 8103.654269456863 segundos\n",
            "Error al buscar la solucion: -19745.203614558006\n",
            "2:15:03.654269\n"
          ]
        }
      ],
      "source": [
        "objetive = 58341\n",
        "raiz_cuadrada(objetive,\"Marcos\",\"2:15:03.654269\")"
      ],
      "id": "694deda9"
    },
    {
      "cell_type": "code",
      "execution_count": null,
      "metadata": {
        "id": "0613f44f"
      },
      "outputs": [],
      "source": [
        "objetive = 654208\n",
        "epsilon = 0.0001\n",
        "raiz_cuadrada(objetive,epsilon)"
      ],
      "id": "0613f44f"
    },
    {
      "cell_type": "code",
      "execution_count": null,
      "metadata": {
        "id": "2260bc49"
      },
      "outputs": [],
      "source": [
        "objetive = 3072994\n",
        "epsilon = 0.0001\n",
        "raiz_cuadrada(objetive,epsilon)"
      ],
      "id": "2260bc49"
    },
    {
      "cell_type": "code",
      "execution_count": null,
      "metadata": {
        "id": "92c5e346"
      },
      "outputs": [],
      "source": [
        "objetive = 70194861\n",
        "epsilon = 0.0001\n",
        "raiz_cuadrada(objetive,epsilon)"
      ],
      "id": "92c5e346"
    },
    {
      "cell_type": "code",
      "execution_count": null,
      "metadata": {
        "id": "b58e224e"
      },
      "outputs": [],
      "source": [
        "objetive = 573957245\n",
        "epsilon = 0.0001\n",
        "raiz_cuadrada(objetive,epsilon)"
      ],
      "id": "b58e224e"
    },
    {
      "cell_type": "code",
      "execution_count": null,
      "metadata": {
        "id": "e277d8b7"
      },
      "outputs": [],
      "source": [
        "objetive = 5912904889\n",
        "epsilon = 0.0001\n",
        "raiz_cuadrada(objetive,epsilon)"
      ],
      "id": "e277d8b7"
    }
  ],
  "metadata": {
    "colab": {
      "provenance": []
    },
    "kernelspec": {
      "display_name": "Python 3 (ipykernel)",
      "language": "python",
      "name": "python3"
    },
    "language_info": {
      "codemirror_mode": {
        "name": "ipython",
        "version": 3
      },
      "file_extension": ".py",
      "mimetype": "text/x-python",
      "name": "python",
      "nbconvert_exporter": "python",
      "pygments_lexer": "ipython3",
      "version": "3.10.12"
    }
  },
  "nbformat": 4,
  "nbformat_minor": 5
}
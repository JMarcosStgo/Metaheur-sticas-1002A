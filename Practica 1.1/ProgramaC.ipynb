{
 "cells": [
  {
   "cell_type": "code",
   "execution_count": null,
   "id": "14c76674",
   "metadata": {
    "id": "14c76674"
   },
   "outputs": [],
   "source": [
    "from datetime import timedelta\n",
    "import time\n",
    "from numpy import sqrt"
   ]
  },
  {
   "cell_type": "code",
   "execution_count": null,
   "id": "f37a58e1",
   "metadata": {
    "id": "f37a58e1"
   },
   "outputs": [],
   "source": [
    "def raiz_cuadrada(objetive,epsilon = 0.0001):\n",
    "    \"\"\" Metodo que calcula la raiz cuadrada exacta de un numero N mediante busqueda exhaustiva y busqueda binaria, determinando el valor del paso (step) y el error (epsilon) aceptable para hallar la solución.\"\"\"\n",
    "    lower_limit = 0.0\n",
    "    upper_limit = max(1.0, objetive)\n",
    "    solution = (upper_limit + lower_limit) / 2\n",
    "    iteraciones = 0\n",
    "\n",
    "    start_time = time.time()\n",
    "    # Implementa la busqueda binaria\n",
    "    while abs(solution**2 - objetive) >= epsilon:\n",
    "        iteraciones += 1\n",
    "        if solution**2 < objetive:\n",
    "            lower_limit = solution\n",
    "        else:\n",
    "            upper_limit = solution\n",
    "\n",
    "        solution = (upper_limit + lower_limit) / 2\n",
    "\n",
    "    end_time = time.time()\n",
    "    print(f'La raíz cuadrada de {objetive} es {solution}')\n",
    "    print(f'Iteraciones: {iteraciones}')\n",
    "    print(f'Tiempo de ejecución: {end_time - start_time} segundos')\n",
    "    print(\"Error al buscar la solucion:\", sqrt(objetive) - solution)\n",
    "    tiempo_delta = timedelta(seconds=end_time - start_time)\n",
    "    tiempo_formateado = str(tiempo_delta)\n",
    "    print(tiempo_formateado)\n"
   ]
  },
  {
   "cell_type": "code",
   "execution_count": null,
   "id": "96523d0f",
   "metadata": {
    "colab": {
     "base_uri": "https://localhost:8080/"
    },
    "id": "96523d0f",
    "outputId": "c704929a-53b1-442b-fd7c-991e5794b5dd"
   },
   "outputs": [
    {
     "name": "stdout",
     "output_type": "stream",
     "text": [
      "La raíz cuadrada de 9 es 2.999988555908203\n",
      "Iteraciones: 17\n",
      "Tiempo de ejecución: 1.7881393432617188e-05 segundos\n",
      "Error al buscar la solucion: 1.1444091796875e-05\n",
      "0:00:00.000018\n"
     ]
    }
   ],
   "source": [
    "# Lectura de N\n",
    "objetive = 9\n",
    "# Llamada a la funcion\n",
    "epsilon = 0.0001\n",
    "raiz_cuadrada(objetive,epsilon)\n"
   ]
  },
  {
   "cell_type": "code",
   "execution_count": null,
   "id": "76ae25e8",
   "metadata": {
    "colab": {
     "base_uri": "https://localhost:8080/"
    },
    "id": "76ae25e8",
    "outputId": "bd50f3ef-86f6-492b-dd13-b7f5b36c6ac6"
   },
   "outputs": [
    {
     "name": "stdout",
     "output_type": "stream",
     "text": [
      "La raíz cuadrada de 19 es 4.3589019775390625\n",
      "Iteraciones: 15\n",
      "Tiempo de ejecución: 1.7642974853515625e-05 segundos\n",
      "Error al buscar la solucion: -3.0339983885241395e-06\n",
      "0:00:00.000018\n"
     ]
    }
   ],
   "source": [
    "# Lectura de N\n",
    "objetive = 19\n",
    "# Llamada a la funcion\n",
    "epsilon = 0.0001\n",
    "raiz_cuadrada(objetive,epsilon)"
   ]
  },
  {
   "cell_type": "code",
   "execution_count": null,
   "id": "c0cd20d0",
   "metadata": {
    "colab": {
     "base_uri": "https://localhost:8080/"
    },
    "id": "c0cd20d0",
    "outputId": "b108d67c-c62d-48c7-d7fe-8a2133bc614f"
   },
   "outputs": [
    {
     "name": "stdout",
     "output_type": "stream",
     "text": [
      "La raíz cuadrada de 530 es 23.02173063158989\n",
      "Iteraciones: 25\n",
      "Tiempo de ejecución: 2.5033950805664062e-05 segundos\n",
      "Error al buscar la solucion: -1.7651472141722024e-06\n",
      "0:00:00.000025\n"
     ]
    }
   ],
   "source": [
    "objetive = 530\n",
    "epsilon = 0.0001\n",
    "raiz_cuadrada(objetive,epsilon)"
   ]
  },
  {
   "cell_type": "code",
   "execution_count": null,
   "id": "897de586",
   "metadata": {
    "colab": {
     "base_uri": "https://localhost:8080/"
    },
    "id": "897de586",
    "outputId": "887f76c5-a739-4133-fdeb-4839b66f3ddf"
   },
   "outputs": [
    {
     "name": "stdout",
     "output_type": "stream",
     "text": [
      "La raíz cuadrada de 1225 es 35.00000019557774\n",
      "Iteraciones: 28\n",
      "Tiempo de ejecución: 1.6450881958007812e-05 segundos\n",
      "Error al buscar la solucion: -1.955777406692505e-07\n",
      "0:00:00.000016\n"
     ]
    }
   ],
   "source": [
    "objetive = 1225\n",
    "epsilon = 0.0001\n",
    "raiz_cuadrada(objetive,epsilon)"
   ]
  },
  {
   "cell_type": "code",
   "execution_count": null,
   "id": "694deda9",
   "metadata": {
    "colab": {
     "base_uri": "https://localhost:8080/"
    },
    "id": "694deda9",
    "outputId": "dabd1067-5bce-4186-e79b-ebeebf6110bf"
   },
   "outputs": [
    {
     "name": "stdout",
     "output_type": "stream",
     "text": [
      "La raíz cuadrada de 58341 es 241.53881688252295\n",
      "Iteraciones: 36\n",
      "Tiempo de ejecución: 1.9550323486328125e-05 segundos\n",
      "Error al buscar la solucion: -1.262922353362228e-07\n",
      "0:00:00.000020\n"
     ]
    }
   ],
   "source": [
    "objetive = 58341\n",
    "epsilon = 0.0001\n",
    "raiz_cuadrada(objetive,epsilon)"
   ]
  },
  {
   "cell_type": "code",
   "execution_count": null,
   "id": "0613f44f",
   "metadata": {
    "colab": {
     "base_uri": "https://localhost:8080/"
    },
    "id": "0613f44f",
    "outputId": "9088be5d-29f3-400f-be5a-198600d7992d"
   },
   "outputs": [
    {
     "name": "stdout",
     "output_type": "stream",
     "text": [
      "La raíz cuadrada de 654208 es 808.8312555568991\n",
      "Iteraciones: 39\n",
      "Tiempo de ejecución: 3.552436828613281e-05 segundos\n",
      "Error al buscar la solucion: 2.1172581909922883e-08\n",
      "0:00:00.000036\n"
     ]
    }
   ],
   "source": [
    "objetive = 654208\n",
    "epsilon = 0.0001\n",
    "raiz_cuadrada(objetive,epsilon)"
   ]
  },
  {
   "cell_type": "code",
   "execution_count": null,
   "id": "2260bc49",
   "metadata": {
    "colab": {
     "base_uri": "https://localhost:8080/"
    },
    "id": "2260bc49",
    "outputId": "0bb8897a-4ec1-49e9-a6ff-50fd5f6709da"
   },
   "outputs": [
    {
     "name": "stdout",
     "output_type": "stream",
     "text": [
      "La raíz cuadrada de 3072994 es 1752.9957216067446\n",
      "Iteraciones: 44\n",
      "Tiempo de ejecución: 2.288818359375e-05 segundos\n",
      "Error al buscar la solucion: 8.114284355542623e-09\n",
      "0:00:00.000023\n"
     ]
    }
   ],
   "source": [
    "objetive = 3072994\n",
    "epsilon = 0.0001\n",
    "raiz_cuadrada(objetive,epsilon)"
   ]
  },
  {
   "cell_type": "code",
   "execution_count": null,
   "id": "92c5e346",
   "metadata": {
    "colab": {
     "base_uri": "https://localhost:8080/"
    },
    "id": "92c5e346",
    "outputId": "e3694dd0-d3a0-40af-f59b-326962721526"
   },
   "outputs": [
    {
     "name": "stdout",
     "output_type": "stream",
     "text": [
      "La raíz cuadrada de 70194861 es 8378.237344456818\n",
      "Iteraciones: 49\n",
      "Tiempo de ejecución: 4.38690185546875e-05 segundos\n",
      "Error al buscar la solucion: -3.0340743251144886e-09\n",
      "0:00:00.000044\n"
     ]
    }
   ],
   "source": [
    "objetive = 70194861\n",
    "epsilon = 0.0001\n",
    "raiz_cuadrada(objetive,epsilon)"
   ]
  },
  {
   "cell_type": "code",
   "execution_count": null,
   "id": "b58e224e",
   "metadata": {
    "colab": {
     "base_uri": "https://localhost:8080/"
    },
    "id": "b58e224e",
    "outputId": "7929552d-27e0-4fb1-860f-bae26556f60e"
   },
   "outputs": [
    {
     "name": "stdout",
     "output_type": "stream",
     "text": [
      "La raíz cuadrada de 573957245 es 23957.404805195598\n",
      "Iteraciones: 54\n",
      "Tiempo de ejecución: 4.291534423828125e-05 segundos\n",
      "Error al buscar la solucion: -1.8917489796876907e-10\n",
      "0:00:00.000043\n"
     ]
    }
   ],
   "source": [
    "objetive = 573957245\n",
    "epsilon = 0.0001\n",
    "raiz_cuadrada(objetive,epsilon)"
   ]
  },
  {
   "cell_type": "code",
   "execution_count": null,
   "id": "e277d8b7",
   "metadata": {
    "colab": {
     "base_uri": "https://localhost:8080/"
    },
    "id": "e277d8b7",
    "outputId": "3bc34afe-e989-4331-8cdd-4fe39879b874"
   },
   "outputs": [
    {
     "name": "stdout",
     "output_type": "stream",
     "text": [
      "La raíz cuadrada de 5912904889 es 76895.4152664511\n",
      "Iteraciones: 57\n",
      "Tiempo de ejecución: 3.266334533691406e-05 segundos\n",
      "Error al buscar la solucion: 2.473825588822365e-10\n",
      "0:00:00.000033\n"
     ]
    }
   ],
   "source": [
    "objetive = 5912904889\n",
    "epsilon = 0.0001\n",
    "raiz_cuadrada(objetive,epsilon)"
   ]
  }
 ],
 "metadata": {
  "colab": {
   "provenance": []
  },
  "kernelspec": {
   "display_name": "Python 3 (ipykernel)",
   "language": "python",
   "name": "python3"
  },
  "language_info": {
   "codemirror_mode": {
    "name": "ipython",
    "version": 3
   },
   "file_extension": ".py",
   "mimetype": "text/x-python",
   "name": "python",
   "nbconvert_exporter": "python",
   "pygments_lexer": "ipython3",
   "version": "3.10.12"
  }
 },
 "nbformat": 4,
 "nbformat_minor": 5
}

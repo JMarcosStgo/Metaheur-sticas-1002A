{
  "cells": [
    {
      "cell_type": "code",
      "execution_count": null,
      "id": "14c76674",
      "metadata": {
        "id": "14c76674"
      },
      "outputs": [],
      "source": [
        "from datetime import timedelta\n",
        "import time\n",
        "from numpy import sqrt"
      ]
    },
    {
      "cell_type": "code",
      "execution_count": null,
      "id": "f37a58e1",
      "metadata": {
        "id": "f37a58e1"
      },
      "outputs": [],
      "source": [
        "def raiz_cuadrada(objetive):\n",
        "    \"\"\" Metodo que calcula la raiz cuadrada exacta de un numero N mediante busqueda exhaustiva\"\"\"\n",
        "    solution = 0\n",
        "    iteraciones = 0\n",
        "\n",
        "    start_time = time.time()\n",
        "\n",
        "    while solution**2 < objetive:\n",
        "        solution += 1\n",
        "        iteraciones += 1\n",
        "\n",
        "    end_time = time.time()\n",
        "    if solution**2 == objetive:\n",
        "        print(f'La raíz cuadrada de {objetive} es {solution}')\n",
        "    else:\n",
        "        print(f'{objetive} no tiene raíz exacta, la solucion obtenida fue {solution}')\n",
        "\n",
        "    print(f'Iteraciones: {iteraciones}')\n",
        "    print(f'Tiempo de ejecución: {end_time - start_time} segundos')\n",
        "    print(\"Error al buscar la solucion:\", sqrt(objetive) - solution)\n",
        "    tiempo_delta = timedelta(seconds=end_time - start_time)\n",
        "    tiempo_formateado = str(tiempo_delta)\n",
        "    print(tiempo_formateado)  # Salida: '0:03:25:45'\n"
      ]
    },
    {
      "cell_type": "code",
      "execution_count": null,
      "id": "96523d0f",
      "metadata": {
        "id": "96523d0f",
        "outputId": "b6967444-146c-4b3b-acb8-5f2e9b6ba6c4"
      },
      "outputs": [
        {
          "name": "stdout",
          "output_type": "stream",
          "text": [
            "La raíz cuadrada de 9 es 3\n",
            "Iteraciones: 3\n",
            "Tiempo de ejecución: 2.384185791015625e-06 segundos\n",
            "Error al buscar la solucion: 0.0\n",
            "0:00:00.000002\n"
          ]
        }
      ],
      "source": [
        "# Lectura de N\n",
        "objetive = 9\n",
        "# Llamada a la funcion\n",
        "raiz_cuadrada(objetive)"
      ]
    },
    {
      "cell_type": "code",
      "execution_count": null,
      "id": "76ae25e8",
      "metadata": {
        "id": "76ae25e8",
        "outputId": "bdf3b2c7-432d-4bf9-9ac8-02a010ad5f35"
      },
      "outputs": [
        {
          "name": "stdout",
          "output_type": "stream",
          "text": [
            "19 no tiene raíz exacta, la solucion obtenida fue 5\n",
            "Iteraciones: 5\n",
            "Tiempo de ejecución: 2.86102294921875e-06 segundos\n",
            "Error al buscar la solucion: -0.641101056459326\n",
            "0:00:00.000003\n"
          ]
        }
      ],
      "source": [
        "# Lectura de N\n",
        "objetive = 19\n",
        "# Llamada a la funcion\n",
        "raiz_cuadrada(objetive)"
      ]
    },
    {
      "cell_type": "code",
      "execution_count": null,
      "id": "c0cd20d0",
      "metadata": {
        "id": "c0cd20d0",
        "outputId": "453ba117-e181-435b-fc4b-0f22909188a4"
      },
      "outputs": [
        {
          "name": "stdout",
          "output_type": "stream",
          "text": [
            "530 no tiene raíz exacta, la solucion obtenida fue 24\n",
            "Iteraciones: 24\n",
            "Tiempo de ejecución: 7.3909759521484375e-06 segundos\n",
            "Error al buscar la solucion: -0.9782711335573246\n",
            "0:00:00.000007\n"
          ]
        }
      ],
      "source": [
        "objetive = 530\n",
        "raiz_cuadrada(objetive)"
      ]
    },
    {
      "cell_type": "code",
      "execution_count": null,
      "id": "897de586",
      "metadata": {
        "id": "897de586",
        "outputId": "684e3cda-ef5b-458d-c0e5-86d8e356e5a3"
      },
      "outputs": [
        {
          "name": "stdout",
          "output_type": "stream",
          "text": [
            "La raíz cuadrada de 1225 es 35\n",
            "Iteraciones: 35\n",
            "Tiempo de ejecución: 1.0967254638671875e-05 segundos\n",
            "Error al buscar la solucion: 0.0\n",
            "0:00:00.000011\n"
          ]
        }
      ],
      "source": [
        "objetive = 1225\n",
        "raiz_cuadrada(objetive)"
      ]
    },
    {
      "cell_type": "code",
      "execution_count": null,
      "id": "694deda9",
      "metadata": {
        "id": "694deda9",
        "outputId": "c5066b4f-cdae-4cda-8487-5fb064b00f7e"
      },
      "outputs": [
        {
          "name": "stdout",
          "output_type": "stream",
          "text": [
            "58341 no tiene raíz exacta, la solucion obtenida fue 242\n",
            "Iteraciones: 242\n",
            "Tiempo de ejecución: 6.031990051269531e-05 segundos\n",
            "Error al buscar la solucion: -0.461183243769284\n",
            "0:00:00.000060\n"
          ]
        }
      ],
      "source": [
        "objetive = 58341\n",
        "raiz_cuadrada(objetive)"
      ]
    },
    {
      "cell_type": "code",
      "execution_count": null,
      "id": "0613f44f",
      "metadata": {
        "id": "0613f44f",
        "outputId": "b2b89dca-bc31-4aa9-d67b-bfefec33ba87"
      },
      "outputs": [
        {
          "name": "stdout",
          "output_type": "stream",
          "text": [
            "654208 no tiene raíz exacta, la solucion obtenida fue 809\n",
            "Iteraciones: 809\n",
            "Tiempo de ejecución: 0.0002186298370361328 segundos\n",
            "Error al buscar la solucion: -0.1687444219282952\n",
            "0:00:00.000219\n"
          ]
        }
      ],
      "source": [
        "objetive = 654208\n",
        "raiz_cuadrada(objetive)"
      ]
    },
    {
      "cell_type": "code",
      "execution_count": null,
      "id": "2260bc49",
      "metadata": {
        "id": "2260bc49",
        "outputId": "0e618e99-f997-4c9a-b4b5-7c959cd9df35"
      },
      "outputs": [
        {
          "name": "stdout",
          "output_type": "stream",
          "text": [
            "3072994 no tiene raíz exacta, la solucion obtenida fue 1753\n",
            "Iteraciones: 1753\n",
            "Tiempo de ejecución: 0.0005352497100830078 segundos\n",
            "Error al buscar la solucion: -0.0042783851411059\n",
            "0:00:00.000535\n"
          ]
        }
      ],
      "source": [
        "objetive = 3072994\n",
        "raiz_cuadrada(objetive)"
      ]
    },
    {
      "cell_type": "code",
      "execution_count": null,
      "id": "92c5e346",
      "metadata": {
        "id": "92c5e346",
        "outputId": "34d7bb17-c2d9-4c23-e0a0-47740a2470ec"
      },
      "outputs": [
        {
          "name": "stdout",
          "output_type": "stream",
          "text": [
            "70194861 no tiene raíz exacta, la solucion obtenida fue 8379\n",
            "Iteraciones: 8379\n",
            "Tiempo de ejecución: 0.0023109912872314453 segundos\n",
            "Error al buscar la solucion: -0.762655546215683\n",
            "0:00:00.002311\n"
          ]
        }
      ],
      "source": [
        "objetive = 70194861\n",
        "raiz_cuadrada(objetive)"
      ]
    },
    {
      "cell_type": "code",
      "execution_count": null,
      "id": "b58e224e",
      "metadata": {
        "id": "b58e224e",
        "outputId": "fb9d8f70-9300-4992-df74-bfd2a9775374"
      },
      "outputs": [
        {
          "name": "stdout",
          "output_type": "stream",
          "text": [
            "573957245 no tiene raíz exacta, la solucion obtenida fue 23958\n",
            "Iteraciones: 23958\n",
            "Tiempo de ejecución: 0.007467031478881836 segundos\n",
            "Error al buscar la solucion: -0.5951948045913014\n",
            "0:00:00.007467\n"
          ]
        }
      ],
      "source": [
        "objetive = 573957245\n",
        "raiz_cuadrada(objetive)"
      ]
    },
    {
      "cell_type": "code",
      "execution_count": null,
      "id": "e277d8b7",
      "metadata": {
        "id": "e277d8b7",
        "outputId": "4b839ca9-1852-46ab-df73-2500b9256fee"
      },
      "outputs": [
        {
          "name": "stdout",
          "output_type": "stream",
          "text": [
            "5912904889 no tiene raíz exacta, la solucion obtenida fue 76896\n",
            "Iteraciones: 76896\n",
            "Tiempo de ejecución: 0.020688772201538086 segundos\n",
            "Error al buscar la solucion: -0.5847335486469092\n",
            "0:00:00.020689\n"
          ]
        }
      ],
      "source": [
        "objetive = 5912904889\n",
        "raiz_cuadrada(objetive)"
      ]
    }
  ],
  "metadata": {
    "kernelspec": {
      "display_name": "Python 3 (ipykernel)",
      "language": "python",
      "name": "python3"
    },
    "language_info": {
      "codemirror_mode": {
        "name": "ipython",
        "version": 3
      },
      "file_extension": ".py",
      "mimetype": "text/x-python",
      "name": "python",
      "nbconvert_exporter": "python",
      "pygments_lexer": "ipython3",
      "version": "3.10.12"
    },
    "colab": {
      "provenance": []
    }
  },
  "nbformat": 4,
  "nbformat_minor": 5
}
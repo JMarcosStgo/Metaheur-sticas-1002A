{
 "cells": [
  {
   "cell_type": "code",
   "execution_count": 1,
   "id": "14c76674",
   "metadata": {
    "id": "14c76674"
   },
   "outputs": [],
   "source": [
    "from datetime import timedelta\n",
    "import time\n",
    "from numpy import sqrt"
   ]
  },
  {
   "cell_type": "code",
   "execution_count": null,
   "id": "f37a58e1",
   "metadata": {
    "id": "f37a58e1"
   },
   "outputs": [],
   "source": [
    "def raiz_cuadrada(objetive,epsilon = 0.0001):\n",
    "    \"\"\" Metodo que calcula la raiz cuadrada exacta de un numero N mediante busqueda exhaustiva,determinando el valor del paso (step) y el error (epsilon) aceptable para hallar la solución.\"\"\"\n",
    "    step = epsilon**2\n",
    "    solution = 0.0\n",
    "    iteraciones = 0\n",
    "\n",
    "    start_time = time.time()\n",
    "\n",
    "    while abs(solution**2 - objetive) >= epsilon and solution <= objetive:\n",
    "        solution += step\n",
    "        iteraciones += 1\n",
    "\n",
    "    end_time = time.time()\n",
    "    if abs(solution**2 - objetive) >= epsilon:\n",
    "        print(f'No se encontró la raíz cuadrada de {objetive}, el valor mas proximo fue {solution}')\n",
    "    else:\n",
    "        print(f'La raíz cuadrada de {objetive} es ~ {solution}')\n",
    "\n",
    "    print(f'Iteraciones: {iteraciones}')\n",
    "    print(f'Tiempo de ejecución: {end_time - start_time} segundos')\n",
    "    print(\"Error al buscar la solucion:\", sqrt(objetive) - solution)\n",
    "    tiempo_delta = timedelta(seconds=end_time - start_time)\n",
    "    tiempo_formateado = str(tiempo_delta)\n",
    "    print(tiempo_formateado)\n"
   ]
  },
  {
   "cell_type": "code",
   "execution_count": null,
   "id": "96523d0f",
   "metadata": {
    "colab": {
     "base_uri": "https://localhost:8080/"
    },
    "id": "96523d0f",
    "outputId": "2515e4b6-05d4-431e-f274-a9d9e534453c"
   },
   "outputs": [
    {
     "name": "stdout",
     "output_type": "stream",
     "text": [
      "La raíz cuadrada de 9 es ~ 2.9999833401350267\n",
      "Iteraciones: 299998335\n",
      "Tiempo de ejecución: 95.6587655544281 segundos\n",
      "Error al buscar la solucion: 1.665986497334515e-05\n",
      "0:01:35.658766\n"
     ]
    }
   ],
   "source": [
    "# Lectura de N\n",
    "objetive = 9\n",
    "# Llamada a la funcion\n",
    "epsilon = 0.0001\n",
    "raiz_cuadrada(objetive,epsilon)"
   ]
  },
  {
   "cell_type": "code",
   "execution_count": null,
   "id": "76ae25e8",
   "metadata": {
    "colab": {
     "base_uri": "https://localhost:8080/"
    },
    "id": "76ae25e8",
    "outputId": "452ff832-9a49-4ed4-f6c9-7a47f653c411"
   },
   "outputs": [
    {
     "name": "stdout",
     "output_type": "stream",
     "text": [
      "La raíz cuadrada de 19 es ~ 4.358887481876327\n",
      "Iteraciones: 435888750\n",
      "Tiempo de ejecución: 139.53797578811646 segundos\n",
      "Error al buscar la solucion: 1.1461664347400813e-05\n",
      "0:02:19.537976\n"
     ]
    }
   ],
   "source": [
    "# Lectura de N\n",
    "objetive = 19\n",
    "# Llamada a la funcion\n",
    "epsilon = 0.0001\n",
    "raiz_cuadrada(objetive,epsilon)"
   ]
  },
  {
   "cell_type": "code",
   "execution_count": null,
   "id": "c0cd20d0",
   "metadata": {
    "colab": {
     "base_uri": "https://localhost:8080/"
    },
    "id": "c0cd20d0",
    "outputId": "8faafe75-df82-4d7d-eaa4-d13a6836bdc9"
   },
   "outputs": [
    {
     "name": "stdout",
     "output_type": "stream",
     "text": [
      "La raíz cuadrada de 530 es ~ 23.021726702650707\n",
      "Iteraciones: 2302172550\n",
      "Tiempo de ejecución: 743.1036968231201 segundos\n",
      "Error al buscar la solucion: 2.163791968712303e-06\n",
      "0:12:23.103697\n"
     ]
    }
   ],
   "source": [
    "objetive = 530\n",
    "epsilon = 0.0001\n",
    "raiz_cuadrada(objetive,epsilon)"
   ]
  },
  {
   "cell_type": "code",
   "execution_count": null,
   "id": "897de586",
   "metadata": {
    "colab": {
     "base_uri": "https://localhost:8080/"
    },
    "id": "897de586",
    "outputId": "bcf51a4a-96e8-4983-ade1-2f3b9f70c3c5"
   },
   "outputs": [
    {
     "name": "stdout",
     "output_type": "stream",
     "text": [
      "La raíz cuadrada de 1225 es ~ 34.99999857373728\n",
      "Iteraciones: 3499999638\n",
      "Tiempo de ejecución: 1133.1457164287567 segundos\n",
      "Error al buscar la solucion: 1.4262627203720513e-06\n",
      "0:18:53.145716\n"
     ]
    }
   ],
   "source": [
    "objetive = 1225\n",
    "epsilon = 0.0001\n",
    "raiz_cuadrada(objetive,epsilon)"
   ]
  },
  {
   "cell_type": "code",
   "execution_count": null,
   "id": "694deda9",
   "metadata": {
    "colab": {
     "base_uri": "https://localhost:8080/"
    },
    "id": "694deda9",
    "outputId": "fe0b9650-4190-4491-fee0-774e698d88b3"
   },
   "outputs": [
    {
     "name": "stdout",
     "output_type": "stream",
     "text": [
      "La raíz cuadrada de 58341 es ~ 241.53881655218507\n",
      "Iteraciones: 24153876207\n",
      "Tiempo de ejecución: 8103.654268503189 segundos\n",
      "Error al buscar la solucion: 2.040456479335262e-07\n",
      "2:15:03.654269\n"
     ]
    }
   ],
   "source": [
    "objetive = 58341\n",
    "epsilon = 0.0001\n",
    "raiz_cuadrada(objetive,epsilon)"
   ]
  },
  {
   "cell_type": "code",
   "execution_count": null,
   "id": "0613f44f",
   "metadata": {
    "id": "0613f44f"
   },
   "outputs": [],
   "source": [
    "objetive = 654208\n",
    "epsilon = 0.0001\n",
    "raiz_cuadrada(objetive,epsilon)"
   ]
  },
  {
   "cell_type": "code",
   "execution_count": null,
   "id": "2260bc49",
   "metadata": {
    "id": "2260bc49"
   },
   "outputs": [],
   "source": [
    "objetive = 3072994\n",
    "epsilon = 0.0001\n",
    "raiz_cuadrada(objetive,epsilon)"
   ]
  },
  {
   "cell_type": "code",
   "execution_count": null,
   "id": "92c5e346",
   "metadata": {
    "id": "92c5e346"
   },
   "outputs": [],
   "source": [
    "objetive = 70194861\n",
    "epsilon = 0.0001\n",
    "raiz_cuadrada(objetive,epsilon)"
   ]
  },
  {
   "cell_type": "code",
   "execution_count": null,
   "id": "b58e224e",
   "metadata": {
    "id": "b58e224e"
   },
   "outputs": [],
   "source": [
    "objetive = 573957245\n",
    "epsilon = 0.0001\n",
    "raiz_cuadrada(objetive,epsilon)"
   ]
  },
  {
   "cell_type": "code",
   "execution_count": null,
   "id": "e277d8b7",
   "metadata": {
    "id": "e277d8b7"
   },
   "outputs": [],
   "source": [
    "objetive = 5912904889\n",
    "epsilon = 0.0001\n",
    "raiz_cuadrada(objetive,epsilon)"
   ]
  }
 ],
 "metadata": {
  "colab": {
   "provenance": []
  },
  "kernelspec": {
   "display_name": "Python 3 (ipykernel)",
   "language": "python",
   "name": "python3"
  },
  "language_info": {
   "codemirror_mode": {
    "name": "ipython",
    "version": 3
   },
   "file_extension": ".py",
   "mimetype": "text/x-python",
   "name": "python",
   "nbconvert_exporter": "python",
   "pygments_lexer": "ipython3",
   "version": "3.10.12"
  }
 },
 "nbformat": 4,
 "nbformat_minor": 5
}
